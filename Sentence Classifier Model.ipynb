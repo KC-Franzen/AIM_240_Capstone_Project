{
 "cells": [
  {
   "cell_type": "code",
   "execution_count": 6,
   "id": "5ac0b7ee",
   "metadata": {},
   "outputs": [],
   "source": [
    "# List of library and resources needed\n",
    "import pandas as pd\n",
    "import nltk \n",
    "from nltk.corpus import stopwords\n",
    "from nltk.tokenize import sent_tokenize, word_tokenize\n",
    "from nltk.stem import PorterStemmer\n",
    "import string\n",
    "import re\n",
    "from sklearn.feature_extraction.text import TfidfVectorizer\n",
    "from sklearn.metrics import classification_report\n",
    "from sklearn.model_selection import train_test_split\n",
    "from sklearn.linear_model import LogisticRegression\n",
    "from sklearn.metrics import accuracy_score\n",
    "import joblib\n",
    "\n",
    "#nltk.download('stopwords')\n",
    "#nltk.download('punkt')"
   ]
  },
  {
   "cell_type": "code",
   "execution_count": 13,
   "id": "98ae8375",
   "metadata": {},
   "outputs": [],
   "source": [
    "stop_words = set(stopwords.words('english'))\n",
    "\n",
    "# Function to clean sentences using regex\n",
    "def clean_sentence(sentence):\n",
    "    # Convert to lowercase\n",
    "    sentence = sentence.lower()\n",
    "    # Remove non-alphanumeric characters using regex\n",
    "    sentence = re.sub(r'[^a-zA-Z0-9\\s]', '', sentence)\n",
    "    # Tokenize the sentence\n",
    "    words = word_tokenize(sentence)\n",
    "    # Remove stopwords\n",
    "    words = [word for word in words if word not in stop_words]\n",
    "    return ' '.join(words)"
   ]
  },
  {
   "cell_type": "code",
   "execution_count": 14,
   "id": "9ca71c67",
   "metadata": {},
   "outputs": [
    {
     "name": "stdout",
     "output_type": "stream",
     "text": [
      "Accuracy: 0.9672131147540983\n"
     ]
    }
   ],
   "source": [
    "# Load the saved CSV file\n",
    "loaded_combined_data = pd.read_csv('combined_data_with_labels.csv')\n",
    "\n",
    "# Extract labels from the loaded data\n",
    "labels = loaded_combined_data['label']\n",
    "\n",
    "# Split the data into features (sentences) and labels\n",
    "X = loaded_combined_data['sentence']\n",
    "y = loaded_combined_data['label']\n",
    "\n",
    "# Split the data into training and testing sets\n",
    "X_train, X_test, y_train, y_test = train_test_split(X, y, test_size=0.3, random_state=93)\n",
    "\n",
    "# Initialize the TF-IDF vectorizer\n",
    "tfidf_vectorizer = TfidfVectorizer()\n",
    "\n",
    "# Fit the vectorizer on the training sentences and transform them into TF-IDF vectors\n",
    "X_train_tfidf = tfidf_vectorizer.fit_transform(X_train)\n",
    "\n",
    "# Transform the test sentences into TF-IDF vectors\n",
    "X_test_tfidf = tfidf_vectorizer.transform(X_test)\n",
    "\n",
    "# Initialize the logistic regression model\n",
    "logistic_regression_model = LogisticRegression()\n",
    "\n",
    "# Train the model on the training data\n",
    "logistic_regression_model.fit(X_train_tfidf, y_train)\n",
    "\n",
    "# Predict labels for the test data\n",
    "y_pred = logistic_regression_model.predict(X_test_tfidf)\n",
    "\n",
    "# Calculate accuracy of the model\n",
    "accuracy = accuracy_score(y_test, y_pred)\n",
    "print(\"Accuracy:\", accuracy)\n"
   ]
  },
  {
   "cell_type": "code",
   "execution_count": 15,
   "id": "19ecf612",
   "metadata": {},
   "outputs": [
    {
     "name": "stdout",
     "output_type": "stream",
     "text": [
      "              precision    recall  f1-score   support\n",
      "\n",
      "           0       1.00      0.87      0.93        30\n",
      "           1       0.95      0.95      0.95        43\n",
      "           2       0.96      1.00      0.98       110\n",
      "\n",
      "    accuracy                           0.97       183\n",
      "   macro avg       0.97      0.94      0.95       183\n",
      "weighted avg       0.97      0.97      0.97       183\n",
      "\n"
     ]
    }
   ],
   "source": [
    "# Generate classification report\n",
    "report = classification_report(y_test, y_pred)\n",
    "\n",
    "# Print the classification report\n",
    "print(report)\n"
   ]
  },
  {
   "cell_type": "code",
   "execution_count": 16,
   "id": "b2445f58",
   "metadata": {},
   "outputs": [
    {
     "data": {
      "text/plain": [
       "['gt_dt_et_regression_model.pkl']"
      ]
     },
     "execution_count": 16,
     "metadata": {},
     "output_type": "execute_result"
    }
   ],
   "source": [
    "# Save the trained model to a file\n",
    "joblib.dump(logistic_regression_model, 'gt_dt_et_regression_model.pkl')"
   ]
  },
  {
   "cell_type": "code",
   "execution_count": 18,
   "id": "9055d455",
   "metadata": {},
   "outputs": [
    {
     "name": "stdout",
     "output_type": "stream",
     "text": [
      "Enter a sentence to be tested: the man is full of kinetic energy\n",
      "Predicted Category: Energy\n"
     ]
    }
   ],
   "source": [
    "# Load the saved model\n",
    "loaded_model = joblib.load('gt_dt_et_regression_model.pkl')\n",
    "\n",
    "# Define a function to preprocess a single sentence\n",
    "def preprocess_sentence(sentence):\n",
    "    # Clean the sentence\n",
    "    cleaned_sentence = clean_sentence(sentence)\n",
    "    # Transform the cleaned sentence into TF-IDF vector\n",
    "    tfidf_vector = tfidf_vectorizer.transform([cleaned_sentence])\n",
    "    # Convert TF-IDF vector to a dense representation (array)\n",
    "    tfidf_vector_array = tfidf_vector.toarray()\n",
    "    return tfidf_vector_array\n",
    "\n",
    "# Define a function to predict labels for a single sentence\n",
    "def predict_label(sentence):\n",
    "    # Preprocess the sentence\n",
    "    preprocessed_sentence = preprocess_sentence(sentence)\n",
    "    # Predict label using the loaded model\n",
    "    prediction = loaded_model.predict(preprocessed_sentence)\n",
    "    return prediction[0]\n",
    "\n",
    "# Get user input for the sentence to be tested\n",
    "user_sentence = input(\"Enter a sentence to be tested: \")\n",
    "\n",
    "# Predict the label for the user input sentence\n",
    "predicted_label = predict_label(user_sentence)\n",
    "\n",
    "# Map predicted label to corresponding category\n",
    "category = \"\"\n",
    "if predicted_label == 1:\n",
    "    category = \"Displacement\"\n",
    "elif predicted_label == 0:\n",
    "    category = \"Energy\"\n",
    "else:\n",
    "    category = \"Not displacement or energy\"\n",
    "\n",
    "print(\"Predicted Category:\", category)"
   ]
  },
  {
   "cell_type": "code",
   "execution_count": null,
   "id": "17e23a51",
   "metadata": {},
   "outputs": [],
   "source": []
  },
  {
   "cell_type": "code",
   "execution_count": null,
   "id": "747216c2",
   "metadata": {},
   "outputs": [],
   "source": []
  }
 ],
 "metadata": {
  "kernelspec": {
   "display_name": "Python 3 (ipykernel)",
   "language": "python",
   "name": "python3"
  },
  "language_info": {
   "codemirror_mode": {
    "name": "ipython",
    "version": 3
   },
   "file_extension": ".py",
   "mimetype": "text/x-python",
   "name": "python",
   "nbconvert_exporter": "python",
   "pygments_lexer": "ipython3",
   "version": "3.11.5"
  }
 },
 "nbformat": 4,
 "nbformat_minor": 5
}
