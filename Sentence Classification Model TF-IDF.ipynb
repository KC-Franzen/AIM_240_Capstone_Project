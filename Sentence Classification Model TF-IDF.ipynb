{
 "cells": [
  {
   "cell_type": "code",
   "execution_count": 1,
   "id": "fbe643e7",
   "metadata": {},
   "outputs": [],
   "source": [
    "# List of library and resources needed\n",
    "import pandas as pd\n",
    "import nltk \n",
    "from nltk.corpus import stopwords\n",
    "from nltk.tokenize import sent_tokenize, word_tokenize\n",
    "from nltk.stem import PorterStemmer\n",
    "import string\n",
    "import re\n",
    "from sklearn.feature_extraction.text import TfidfVectorizer\n",
    "from sklearn.metrics import classification_report\n",
    "from sklearn.model_selection import train_test_split\n",
    "from sklearn.linear_model import LogisticRegression\n",
    "from sklearn.metrics import accuracy_score\n",
    "import joblib\n",
    "\n",
    "#nltk.download('stopwords')\n",
    "#nltk.download('punkt')"
   ]
  },
  {
   "cell_type": "code",
   "execution_count": 14,
   "id": "8e35ddb5",
   "metadata": {},
   "outputs": [],
   "source": [
    "stop_words = set(stopwords.words('english'))\n",
    "\n",
    "# Function to clean sentences using regex\n",
    "def clean_sentence(sentence):\n",
    "    # Convert to lowercase\n",
    "    sentence = sentence.lower()\n",
    "    # Remove non-alphanumeric characters using regex\n",
    "    sentence = re.sub(r'[^a-zA-Z0-9\\s]', '', sentence)\n",
    "    # Tokenize the sentence\n",
    "    words = word_tokenize(sentence)\n",
    "    # Remove stopwords\n",
    "    words = [word for word in words if word not in stop_words]\n",
    "    return ' '.join(words)"
   ]
  },
  {
   "cell_type": "code",
   "execution_count": 15,
   "id": "53d497b3",
   "metadata": {},
   "outputs": [
    {
     "name": "stdout",
     "output_type": "stream",
     "text": [
      "Shape of TF-IDF Vectors Array: (610, 1704)\n",
      "TF-IDF Vectors Array: [[0.         0.         0.35491017 ... 0.         0.         0.        ]\n",
      " [0.         0.         0.         ... 0.         0.         0.        ]\n",
      " [0.         0.         0.         ... 0.         0.         0.        ]\n",
      " ...\n",
      " [0.         0.         0.         ... 0.         0.         0.        ]\n",
      " [0.         0.         0.         ... 0.         0.         0.        ]\n",
      " [0.         0.         0.         ... 0.         0.         0.        ]]\n"
     ]
    }
   ],
   "source": [
    "# Read the CSV file containing cleaned sentences and labels\n",
    "data = pd.read_csv('combined_data_with_labels.csv')\n",
    "\n",
    "# Extract sentences from the loaded data\n",
    "combined_sentences = data['sentence']\n",
    "\n",
    "# Initialize the TF-IDF vectorizer\n",
    "tfidf_vectorizer = TfidfVectorizer()\n",
    "\n",
    "# Fit the vectorizer on the sentences and transform them into TF-IDF vectors\n",
    "tfidf_vectors = tfidf_vectorizer.fit_transform(combined_sentences)\n",
    "\n",
    "# Convert TF-IDF vectors to a dense representation (array)\n",
    "tfidf_vectors_array = tfidf_vectors.toarray()\n",
    "\n",
    "# Print the shape of the TF-IDF vectors array\n",
    "print(\"Shape of TF-IDF Vectors Array:\", tfidf_vectors_array.shape)\n",
    "\n",
    "# Print the TF-IDF vectors array to verify\n",
    "print(\"TF-IDF Vectors Array:\", tfidf_vectors_array)"
   ]
  },
  {
   "cell_type": "code",
   "execution_count": 16,
   "id": "95ba71a5",
   "metadata": {},
   "outputs": [
    {
     "name": "stdout",
     "output_type": "stream",
     "text": [
      "Accuracy: 0.9398907103825137\n"
     ]
    }
   ],
   "source": [
    "# Load the combined cleaned data with labels\n",
    "combined_data = pd.read_csv('combined_data_with_labels.csv')\n",
    "\n",
    "# Extract sentences and labels from the loaded data\n",
    "sentences = combined_data['sentence']\n",
    "labels = combined_data['label']\n",
    "\n",
    "# Initialize the TF-IDF vectorizer\n",
    "tfidf_vectorizer = TfidfVectorizer()\n",
    "\n",
    "# Fit the vectorizer on the sentences and transform them into TF-IDF vectors\n",
    "tfidf_vectors = tfidf_vectorizer.fit_transform(sentences)\n",
    "\n",
    "# Split the data into training and testing sets\n",
    "X_train, X_test, y_train, y_test = train_test_split(tfidf_vectors, labels, test_size=0.3, random_state=94)\n",
    "\n",
    "# Initialize the logistic regression model\n",
    "logistic_regression_model = LogisticRegression()\n",
    "\n",
    "# Train the model on the training data\n",
    "logistic_regression_model.fit(X_train, y_train)\n",
    "\n",
    "# Predict labels for the test data\n",
    "y_pred = logistic_regression_model.predict(X_test)\n",
    "\n",
    "# Calculate accuracy of the model\n",
    "accuracy = accuracy_score(y_test, y_pred)\n",
    "print(\"Accuracy:\", accuracy)\n"
   ]
  },
  {
   "cell_type": "code",
   "execution_count": 17,
   "id": "f07f31d1",
   "metadata": {},
   "outputs": [
    {
     "name": "stdout",
     "output_type": "stream",
     "text": [
      "              precision    recall  f1-score   support\n",
      "\n",
      "           0       1.00      0.84      0.91        25\n",
      "           1       0.98      0.85      0.91        47\n",
      "           2       0.92      1.00      0.96       111\n",
      "\n",
      "    accuracy                           0.94       183\n",
      "   macro avg       0.96      0.90      0.93       183\n",
      "weighted avg       0.94      0.94      0.94       183\n",
      "\n"
     ]
    }
   ],
   "source": [
    "# Generate classification report\n",
    "report = classification_report(y_test, y_pred)\n",
    "\n",
    "# Print the classification report\n",
    "print(report)"
   ]
  },
  {
   "cell_type": "code",
   "execution_count": 18,
   "id": "a7f13ffc",
   "metadata": {},
   "outputs": [
    {
     "data": {
      "text/plain": [
       "['TF_IDF_gt_dt_et_regression_model.pkl']"
      ]
     },
     "execution_count": 18,
     "metadata": {},
     "output_type": "execute_result"
    }
   ],
   "source": [
    "# Save the trained model to a file\n",
    "joblib.dump(logistic_regression_model, 'TF_IDF_gt_dt_et_regression_model.pkl')"
   ]
  },
  {
   "cell_type": "code",
   "execution_count": 19,
   "id": "b80f61e2",
   "metadata": {},
   "outputs": [
    {
     "name": "stdout",
     "output_type": "stream",
     "text": [
      "Enter a sentence to be tested: the man is full of kinetic\n",
      "Predicted Category: Not displacement or energy\n"
     ]
    }
   ],
   "source": [
    "# Load the saved model\n",
    "loaded_model = joblib.load('TF_IDF_gt_dt_et_regression_model.pkl')\n",
    "\n",
    "# Define a function to preprocess a single sentence\n",
    "def preprocess_sentence(sentence):\n",
    "    # Clean the sentence\n",
    "    cleaned_sentence = clean_sentence(sentence)\n",
    "    # Transform the cleaned sentence into TF-IDF vector\n",
    "    tfidf_vector = tfidf_vectorizer.transform([cleaned_sentence])\n",
    "    # Convert TF-IDF vector to a dense representation (array)\n",
    "    tfidf_vector_array = tfidf_vector.toarray()\n",
    "    return tfidf_vector_array\n",
    "\n",
    "# Define a function to predict labels for a single sentence\n",
    "def predict_label(sentence):\n",
    "    # Preprocess the sentence\n",
    "    preprocessed_sentence = preprocess_sentence(sentence)\n",
    "    # Predict label using the loaded model\n",
    "    prediction = loaded_model.predict(preprocessed_sentence)\n",
    "    return prediction[0]\n",
    "\n",
    "# Get user input for the sentence to be tested\n",
    "user_sentence = input(\"Enter a sentence to be tested: \")\n",
    "\n",
    "# Predict the label for the user input sentence\n",
    "predicted_label = predict_label(user_sentence)\n",
    "\n",
    "# Map predicted label to corresponding category\n",
    "category = \"\"\n",
    "if predicted_label == 1:\n",
    "    category = \"Displacement\"\n",
    "elif predicted_label == 0:\n",
    "    category = \"Energy\"\n",
    "else:\n",
    "    category = \"Not displacement or energy\"\n",
    "\n",
    "print(\"Predicted Category:\", category)\n"
   ]
  },
  {
   "cell_type": "code",
   "execution_count": null,
   "id": "77d60cd7",
   "metadata": {},
   "outputs": [],
   "source": []
  }
 ],
 "metadata": {
  "kernelspec": {
   "display_name": "Python 3 (ipykernel)",
   "language": "python",
   "name": "python3"
  },
  "language_info": {
   "codemirror_mode": {
    "name": "ipython",
    "version": 3
   },
   "file_extension": ".py",
   "mimetype": "text/x-python",
   "name": "python",
   "nbconvert_exporter": "python",
   "pygments_lexer": "ipython3",
   "version": "3.11.5"
  }
 },
 "nbformat": 4,
 "nbformat_minor": 5
}
