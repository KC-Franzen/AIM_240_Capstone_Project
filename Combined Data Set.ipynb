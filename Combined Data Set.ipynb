{
 "cells": [
  {
   "cell_type": "code",
   "execution_count": 1,
   "id": "dbc772c5",
   "metadata": {},
   "outputs": [],
   "source": [
    "# List of library and resources needed\n",
    "import pandas as pd\n",
    "import nltk \n",
    "from nltk.corpus import stopwords\n",
    "from nltk.tokenize import sent_tokenize, word_tokenize\n",
    "from nltk.stem import PorterStemmer\n",
    "import string\n",
    "import re\n",
    "from sklearn.feature_extraction.text import TfidfVectorizer\n",
    "from sklearn.metrics import classification_report\n",
    "from sklearn.model_selection import train_test_split\n",
    "from sklearn.linear_model import LogisticRegression\n",
    "from sklearn.metrics import accuracy_score\n",
    "import joblib\n",
    "\n",
    "#nltk.download('stopwords')\n",
    "#nltk.download('punkt')"
   ]
  },
  {
   "cell_type": "code",
   "execution_count": 2,
   "id": "8ec04ec1",
   "metadata": {},
   "outputs": [
    {
     "name": "stdout",
     "output_type": "stream",
     "text": [
      "                                            sentence  label\n",
      "0  unless flown airplane probably never traveled ...      1\n",
      "1  imagine traveling train like one shown goes 30...      1\n",
      "2  despite high speed people riding train may not...      1\n",
      "3       motion even motion 300 mph relative observer      1\n",
      "4  chapter learn important identify reference fra...      1\n"
     ]
    }
   ],
   "source": [
    "# Load the clean displacement data\n",
    "clean_dt_data = pd.read_csv('clean_dt_data_with_labels.csv')\n",
    "\n",
    "# Load the clean energy data\n",
    "clean_et_data = pd.read_csv('clean_et_data_with_labels.csv')\n",
    "\n",
    "# Load the clean generic data\n",
    "clean_gt_data = pd.read_csv('clean_gt_data_with_labels.csv')\n",
    "\n",
    "# Concatenate the three datasets\n",
    "combined_data = pd.concat([clean_dt_data, clean_et_data, clean_gt_data], ignore_index=True)\n",
    "\n",
    "# Save the combined DataFrame to a CSV file\n",
    "combined_data.to_csv('combined_data_with_labels.csv', index=False)\n",
    "\n",
    "# Load the saved CSV file\n",
    "loaded_combined_data = pd.read_csv('combined_data_with_labels.csv')\n",
    "\n",
    "# Display the first few rows of the loaded DataFrame\n",
    "print(loaded_combined_data.head())"
   ]
  },
  {
   "cell_type": "code",
   "execution_count": null,
   "id": "31df83b8",
   "metadata": {},
   "outputs": [],
   "source": []
  }
 ],
 "metadata": {
  "kernelspec": {
   "display_name": "Python 3 (ipykernel)",
   "language": "python",
   "name": "python3"
  },
  "language_info": {
   "codemirror_mode": {
    "name": "ipython",
    "version": 3
   },
   "file_extension": ".py",
   "mimetype": "text/x-python",
   "name": "python",
   "nbconvert_exporter": "python",
   "pygments_lexer": "ipython3",
   "version": "3.11.5"
  }
 },
 "nbformat": 4,
 "nbformat_minor": 5
}
